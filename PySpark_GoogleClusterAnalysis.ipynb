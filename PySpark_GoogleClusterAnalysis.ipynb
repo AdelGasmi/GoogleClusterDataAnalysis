{
 "cells": [
  {
   "cell_type": "markdown",
   "metadata": {},
   "source": [
    "Analyzing Data with Spark - TP \n",
    "----------------------\n",
    "**Master M2 – Université Grenoble Alpes & Grenoble INP\n",
    "\n",
    "Done By: **BARADZA J. & GASMI A.**\n"
   ]
  },
  {
   "cell_type": "markdown",
   "metadata": {},
   "source": [
    "In this notebook, you will find various analysis for a dataset about Google Cluster of 12500 machines for 29 days. We have done thoses analysis using various techniques offered by Apache Spark. \n",
    "\n",
    "An overview of the notebook: \n",
    "\n",
    "**Part 1:** Importing packages and datasets (RDDs and DataFrames)\n",
    "\n",
    "**Part 2:** Answering 7 different questions related to the data\n",
    "    * Questions [1:5] =  using RDD transformations and actions\n",
    "    * Questions [5]   =  comparing between RDD and PySpark DF (Performance)\n",
    "    * Questions [5:7] =  using PySpark DF\n",
    "    * Questions [7]   =  comparing between PySpark DF and Pandas DF\n",
    "    * Additional Analysis using PySpark DF\n",
    "    "
   ]
  },
  {
   "cell_type": "code",
   "execution_count": 3,
   "metadata": {},
   "outputs": [],
   "source": [
    "# importing the necessary packages\n",
    "import sys\n",
    "from pyspark import SparkContext\n",
    "import time\n",
    "import matplotlib\n",
    "import matplotlib.pyplot as plt\n",
    "import numpy as np\n",
    "import timeit\n",
    "import pandas as pd\n",
    "\n",
    "from IPython.core.interactiveshell import InteractiveShell\n",
    "InteractiveShell.ast_node_interactivity = \"all\"\n",
    "\n",
    "from pyspark import SparkContext, SparkConf\n",
    "from pyspark.sql import SQLContext\n",
    "from pyspark import SparkContext\n",
    "\n",
    "from pyspark.sql.functions import count, avg\n",
    "from pyspark.sql.types import StructType, StructField, IntegerType, StringType, TimestampType, FloatType, LongType\n",
    "\n",
    "#### Driver program\n",
    "\n",
    "# start spark with all available cpus\n",
    "sc = SparkContext(\"local[*]\")\n",
    "sc.setLogLevel(\"ERROR\")\n",
    "\n",
    "#initial SQLContext for Spark Dataframe manipulations \n",
    "sqlContext = SQLContext(sc)"
   ]
  },
  {
   "cell_type": "markdown",
   "metadata": {},
   "source": [
    "Importing the data in RDDs\n",
    "--------------------------------------"
   ]
  },
  {
   "cell_type": "code",
   "execution_count": 4,
   "metadata": {},
   "outputs": [],
   "source": [
    "# read the input file into an RDD[String]\n",
    "\n",
    "machine_events_rdd = sc.textFile(\"./data/machine_events.csv\")\n",
    "machine_attributes_rdd = sc.textFile(\"./data/machine_attributes.csv\")\n",
    "task_events_rdd = sc.textFile(\"./data/task_events.csv\")\n",
    "job_events_rdd = sc.textFile(\"./data/job_events.csv\")\n",
    "task_usage_rdd = sc.textFile(\"./data/task_usage.csv\")\n",
    "task_constraints_rdd = sc.textFile(\"./data/task_constraints.csv\")\n",
    "\n",
    "machine_events_rdd_col = sc.textFile(\"./data/machine-events_with_col.csv\")\n",
    "job_events_rdd_all = sc.textFile(\"./data/al_job-event_with_col.csv\")"
   ]
  },
  {
   "cell_type": "markdown",
   "metadata": {},
   "source": [
    "Importing Spark DataFrames\n",
    "--------------------------------------"
   ]
  },
  {
   "cell_type": "code",
   "execution_count": 5,
   "metadata": {},
   "outputs": [
    {
     "name": "stdout",
     "output_type": "stream",
     "text": [
      "machine events dataframe contains  37780\n"
     ]
    },
    {
     "data": {
      "text/plain": [
       "450146"
      ]
     },
     "execution_count": 5,
     "metadata": {},
     "output_type": "execute_result"
    }
   ],
   "source": [
    "# 1. Machine Events \n",
    "\n",
    "# For Spark DF, and because our CSV files don't have a header, we are going to define a schema for the concerned files\n",
    "\n",
    "schema_machine_events = StructType([\n",
    "    StructField(\"time\", TimestampType(), True),\n",
    "    StructField(\"machine_id\", IntegerType(), True),\n",
    "    StructField(\"event_type\", IntegerType(), True),\n",
    "    StructField(\"platform_id\", IntegerType(), True),\n",
    "    StructField(\"cpus\", FloatType(), True),\n",
    "    StructField(\"memory\", FloatType(), True)])\n",
    "\n",
    "machine_events_df = sqlContext.read.csv(\"./data/machine_events.csv\",header=False,schema=schema_machine_events)\n",
    "print(\"machine events dataframe contains \", machine_events_df.count())\n",
    "\n",
    "# 1. Task Events DataFrame\n",
    "schema_task_events = StructType([\n",
    "    StructField(\"timestamp\", TimestampType(), True),\n",
    "    StructField(\"missing_info\", StringType(), True),\n",
    "    StructField(\"job_id\", LongType(), True),\n",
    "    StructField(\"task_index_job\", IntegerType(), True),\n",
    "    StructField(\"machine_id\", LongType(), True),\n",
    "    StructField(\"event_type\", IntegerType(), True),\n",
    "    StructField(\"username\", StringType(), True),\n",
    "    StructField(\"scheduling_class\", IntegerType(), True),\n",
    "    StructField(\"priority\", IntegerType(), True),\n",
    "    StructField(\"cpu_request\", FloatType(), True),\n",
    "    StructField(\"memory_request\", FloatType(), True),\n",
    "    StructField(\"disk_request\", FloatType(), True),\n",
    "    StructField(\"machine_restriction\", IntegerType(), True)])\n",
    "\n",
    "task_events_df = sqlContext.read.csv(\"./data/task_events.csv\",header=False,schema=schema_task_events)\n",
    "task_events_df.count()\n",
    "\n",
    "# 2. Task Usage DataFrame\n",
    "schema_usage = StructType([\n",
    "    StructField(\"start_time\", TimestampType(), True),\n",
    "    StructField(\"end_time\", StringType(), True),\n",
    "    StructField(\"job_id\", LongType(), True),\n",
    "    StructField(\"task_index_job\", IntegerType(), True),\n",
    "    StructField(\"machine_id\", LongType(), True),\n",
    "    StructField(\"cpu_rate\", IntegerType(), True),\n",
    "    StructField(\"canonial_memory\", StringType(), True),\n",
    "    StructField(\"assigned_memory\", IntegerType(), True),\n",
    "    StructField(\"unmapped_page_cache\", IntegerType(), True),\n",
    "    StructField(\"total_page_cache\", FloatType(), True),\n",
    "    StructField(\"max_memory_usage\", FloatType(), True),\n",
    "    StructField(\"io_time\", FloatType(), True),\n",
    "    StructField(\"local_disk_usage\", FloatType(), True),\n",
    "    StructField(\"max_disk_usage\", FloatType(), True),\n",
    "    StructField(\"max_io_time\", FloatType(), True),\n",
    "    StructField(\"cycle_per_inst\", FloatType(), True),\n",
    "    StructField(\"memory_access\", FloatType(), True),\n",
    "    StructField(\"sample_portion\", FloatType(), True),\n",
    "    StructField(\"agg_type\", FloatType(), True),\n",
    "    StructField(\"cpu_usage\", FloatType(), True)])\n",
    "\n",
    "task_usage_df = sqlContext.read.csv(\"./data/task_usage.csv\",header=False,schema=schema_usage)\n",
    "\n",
    "# cashing the dataframes for future use\n",
    "machine_events_df.cache()\n",
    "task_events_df.cache()\n",
    "task_usage_df.cache()"
   ]
  },
  {
   "cell_type": "code",
   "execution_count": 6,
   "metadata": {},
   "outputs": [],
   "source": [
    "# helping function to \"find the index of a specific column in an RDD row\"\n",
    "\n",
    "def findCol(firstLine, name):\n",
    "    if name in firstLine:\n",
    "        return firstLine.index(name)\n",
    "    else:\n",
    "        return -1"
   ]
  },
  {
   "cell_type": "code",
   "execution_count": 7,
   "metadata": {
    "scrolled": true
   },
   "outputs": [
    {
     "data": {
      "text/plain": [
       "PythonRDD[30] at RDD at PythonRDD.scala:53"
      ]
     },
     "execution_count": 7,
     "metadata": {},
     "output_type": "execute_result"
    },
    {
     "data": {
      "text/plain": [
       "PythonRDD[31] at RDD at PythonRDD.scala:53"
      ]
     },
     "execution_count": 7,
     "metadata": {},
     "output_type": "execute_result"
    }
   ],
   "source": [
    "# The first line of the file defines the name of each column in the cvs file\n",
    "# We store it as an array in the driver program\n",
    "firstLine = machine_events_rdd_col.filter(lambda x: \"timestamp\" in x).collect()[0].replace('\"','').split(',')\n",
    "firstLine2 = job_events_rdd_all.filter(lambda x: \"time\" in x).collect()[0].replace('\"','').split(',')\n",
    "\n",
    "# filter out the first line from the initial RDD\n",
    "mc_entries = machine_events_rdd_col.filter(lambda x: not (\"timestamp\" in x))\n",
    "entries2 = job_events_rdd_all.filter(lambda x: not (\"time\" in x))\n",
    "\n",
    "# split each line into an array of items\n",
    "mc_entries = mc_entries.map(lambda x : x.split(','))\n",
    "entries2 = entries2.map(lambda x : x.split(','))\n",
    "#print (entries)\n",
    "\n",
    "\n",
    "# keep the RDD in memory\n",
    "mc_entries.cache()\n",
    "entries2.cache()\n",
    "\n",
    "# column index of the machine-events rdd\n",
    "column_index=findCol(firstLine, \"event-type\")\n",
    "machine_id =findCol(firstLine, \"machine-id\")\n",
    "cpu_index = findCol(firstLine, \"capacity-cpu\")\n",
    "ram_index = findCol(firstLine, \"capacity-ram\")\n",
    "timestamp=findCol(firstLine, \"timestamp\")\n",
    "\n",
    "# column index of the job-events rdd\n",
    "column_sc =findCol(firstLine2, \"scheduling_class\")\n",
    "column_job_id =findCol(firstLine2, \"job_id\")\n",
    "column_j_event =findCol(firstLine2, \"event_type\")\n",
    "\n",
    "\n",
    "# Using 'map' to create a RDD with all event-type , cpc,scheduling class\n",
    "events_t = mc_entries.map(lambda x: x[column_index])\n",
    "sc = entries2.map(lambda x: x[column_sc])"
   ]
  },
  {
   "cell_type": "markdown",
   "metadata": {},
   "source": [
    "Answer the questions\n",
    "-------------------------------"
   ]
  },
  {
   "cell_type": "markdown",
   "metadata": {},
   "source": [
    "**Question 1**: What is the distribution of the machines according to their CPU capacity?"
   ]
  },
  {
   "cell_type": "code",
   "execution_count": 7,
   "metadata": {},
   "outputs": [
    {
     "name": "stdout",
     "output_type": "stream",
     "text": [
      "Here is the distribution of the cpu\n",
      " machine with  capacity are : 32  which is = 0.25 % of total machine\n",
      " machine with 0.25 capacity are : 126  which is = 1.0 % of total machine\n",
      " machine with 0.5 capacity are : 11666  which is = 92.43 % of total machine\n",
      " machine with 1.0 capacity are : 798  which is = 6.32 % of total machine\n"
     ]
    },
    {
     "data": {
      "image/png": "[encoded data removed]",
      "text/plain": [
       "<Figure size 432x288 with 1 Axes>"
      ]
     },
     "metadata": {
      "needs_background": "light"
     },
     "output_type": "display_data"
    }
   ],
   "source": [
    "#selecting the machine, their cpu and count the unique distrubiton of each machine per cpu category\n",
    "perc = mc_entries.map(lambda x : (x[cpu_index],x[machine_id],x[ram_index])).distinct().count()\n",
    "trimed_rdd = mc_entries.map(lambda x : (x[cpu_index],x[machine_id],x[5])).sortBy(lambda a: a[0]).distinct()\n",
    "pc = mc_entries.map(lambda x : x[machine_id]).distinct().count()\n",
    "\n",
    "cpu_capacity = trimed_rdd.map(lambda x: x[0]).countByValue()\n",
    "\n",
    "print(\"Here is the distribution of the cpu\")\n",
    "\n",
    "for cpus , count2 in cpu_capacity.items():\n",
    "  print(\" machine with {} capacity are : {}  which is = {} % of total machine\".format(cpus, count2 , round(count2*100/perc, 2)))\n",
    "\n",
    "\n",
    "[valuess [1] for  valuess in cpu_capacity.items()]\n",
    "\n",
    "data = [valuess [1] for  valuess in cpu_capacity.items()]\n",
    "lab = [lab[0] for lab  in cpu_capacity.items()]\n",
    "bar_width = 0.35\n",
    "indexes = list(range(len(cpu_capacity)))\n",
    "plt.bar(indexes, data)\n",
    "\n",
    "#add labels\n",
    "labelidx = [i + bar_width for i in indexes] \n",
    "plt.xticks(labelidx, lab)\n",
    "plt.show();"
   ]
  },
  {
   "cell_type": "markdown",
   "metadata": {},
   "source": [
    "*Comments*\n",
    "\n",
    "The total number of machines in the data center is 12500 machines. The CPU capacity of any machine is categorised into 3 groups and distributed as follows:\n",
    "\n",
    "a.) The most powerful machines with a CPU capacity  1, there are just 796 machines of this type, which corresponds to 6.32% of the total number of machines. \n",
    "\n",
    "b.) Machines with medium CPU capacity, equal to 0.5. These represent the largest number of machines (11666) corresponding to 92.43% of the total number of machines. \n",
    "\n",
    "c) The least powerful machines with small CPU capacity, equal to 0.25. There are 126 such machines, which represents 1.0% of the total number of machines.\n",
    "\n",
    "d.) And finally we found about 32  machine with no category, which is 0.25% of the all machines.\n"
   ]
  },
  {
   "cell_type": "markdown",
   "metadata": {},
   "source": [
    "**Question 2**: What is the percentage of computational power lost due to maintenance (a machine went offline and reconnected later)?"
   ]
  },
  {
   "cell_type": "code",
   "execution_count": 8,
   "metadata": {},
   "outputs": [
    {
     "name": "stdout",
     "output_type": "stream",
     "text": [
      " machine with 0.2493 ram  are : 3866  which is = 30.63 % of total machine\n",
      " machine with 0.4995 ram  are : 6732  which is = 53.34 % of total machine\n",
      " machine with 0.1241 ram  are : 54  which is = 0.43 % of total machine\n",
      " machine with 0.7490000000000001 ram  are : 1003  which is = 7.95 % of total machine\n",
      " machine with 0.03085 ram  are : 5  which is = 0.04 % of total machine\n",
      " machine with 0.9678 ram  are : 5  which is = 0.04 % of total machine\n",
      " machine with 0.2498 ram  are : 126  which is = 1.0 % of total machine\n",
      " machine with 0.061579999999999996 ram  are : 1  which is = 0.01 % of total machine\n",
      " machine with 1.0 ram  are : 795  which is = 6.3 % of total machine\n",
      " machine with  ram  are : 32  which is = 0.25 % of total machine\n",
      " machine with 0.5 ram  are : 3  which is = 0.02 % of total machine\n"
     ]
    }
   ],
   "source": [
    "trimmed_rdd2 = mc_entries.map(lambda x : (x[cpu_index],x[machine_id],x[ram_index])).distinct()\n",
    "tr=trimmed_rdd2.map(lambda x: x[2]).countByValue()\n",
    "\n",
    "for ram , count in tr.items():\n",
    "     print(\" machine with {} ram  are : {}  which is = {} % of total machine\".format(ram, count , round(count*100/perc, 2)))\n"
   ]
  },
  {
   "cell_type": "markdown",
   "metadata": {},
   "source": [
    "**Question 3**: What is the distribution of the number jobs/tasks per scheduling class?"
   ]
  },
  {
   "cell_type": "code",
   "execution_count": 9,
   "metadata": {},
   "outputs": [
    {
     "name": "stdout",
     "output_type": "stream",
     "text": [
      "Here is the distribution of jobs per scheduling class\n",
      "scheduling class 0  has : 257275\n",
      "scheduling class 1  has : 215110\n",
      "scheduling class 2  has : 194513\n",
      "scheduling class 3  has : 5179\n",
      "\n",
      "\n"
     ]
    },
    {
     "data": {
      "image/png": "[encoded data removed]",
      "text/plain": [
       "<Figure size 432x288 with 1 Axes>"
      ]
     },
     "metadata": {
      "needs_background": "light"
     },
     "output_type": "display_data"
    }
   ],
   "source": [
    "j_sc0 = entries2.map(lambda y : (y[column_job_id],y[column_sc])).distinct()\n",
    "j_sc=j_sc0.map(lambda y : y[1]).sortBy(lambda a: a[0]).countByValue()\n",
    "\n",
    "print(\"Here is the distribution of jobs per scheduling class\")\n",
    "for sc , count3 in j_sc.items():\n",
    "  print(\"scheduling class {}  has : {}\".format(sc,count3))\n",
    "print(\"\\n\")\n",
    "data = [lab[1] for lab  in j_sc.items()]\n",
    "lab = [lab[0] for lab  in j_sc.items()]\n",
    "bar_width = 0.35\n",
    "indexes = list(range(len(j_sc)))\n",
    "plt.bar(indexes, data)\n",
    "\n",
    "#add labels\n",
    "labelidx = [i + bar_width for i in indexes] \n",
    "plt.xticks(labelidx, lab)\n",
    "plt.show();"
   ]
  },
  {
   "cell_type": "markdown",
   "metadata": {},
   "source": [
    "**Question 4**: What is the percentage of jobs/tasks that got killed or evicted depending on the schedulingclass?"
   ]
  },
  {
   "cell_type": "code",
   "execution_count": 10,
   "metadata": {},
   "outputs": [
    {
     "name": "stdout",
     "output_type": "stream",
     "text": [
      "Here is the distribution of evicted or killed job per scheduling class\n",
      "scheduling class 0 has a number of  : 139343 evicted /killed jobs  which is = 51.16 % of total evicted\n",
      "scheduling class 1 has a number of  : 38867 evicted /killed jobs  which is = 14.27 % of total evicted\n",
      "scheduling class 2 has a number of  : 89982 evicted /killed jobs  which is = 33.04 % of total evicted\n",
      "scheduling class 3 has a number of  : 4171 evicted /killed jobs  which is = 1.53 % of total evicted\n"
     ]
    },
    {
     "data": {
      "image/png": "[encoded data removed]",
      "text/plain": [
       "<Figure size 432x288 with 1 Axes>"
      ]
     },
     "metadata": {},
     "output_type": "display_data"
    }
   ],
   "source": [
    " #number of evicted/killed  task/job per scheduling class.\n",
    "sumu = entries2.map(lambda w: (w[column_job_id], w[column_j_event], w[column_sc])).filter(lambda w: w[:][1] in ['2' ,'5']).count()\n",
    "job_evic0 = entries2.map(lambda w: (w[column_job_id], w[column_j_event], w[column_sc])).filter(lambda w: w[:][1] in ['2' ,'5'])\n",
    "\n",
    "job_evic=job_evic0.map(lambda k : k[2]).sortBy(lambda a: a[0]).countByValue()\n",
    "\n",
    "print(\"Here is the distribution of evicted or killed job per scheduling class\")\n",
    "for sc , killed_jobs in job_evic.items():\n",
    "  print(\"scheduling class {} has a number of  : {} evicted /killed jobs  which is = {} % of total evicted\".format(sc,killed_jobs , round(killed_jobs*100/sumu, 2)))\n",
    "\n",
    "lab= [sc[0] for sc  in job_evic.items()]\n",
    "val =[killed_jobs[1] for  killed_jobs in job_evic.items()]\n",
    "explode = (0.1, 0.1, 0.1, 0.1) \n",
    "colors = ['gold', 'yellowgreen', 'lightcoral']\n",
    "plt.pie(val, explode=explode, labels=lab, colors=colors,\n",
    "autopct='%1.1f%%', shadow=True, startangle=140)\n",
    "\n",
    "# explode 1st slice\n",
    "\n",
    "plt.axis('equal')\n",
    "plt.show();"
   ]
  },
  {
   "cell_type": "code",
   "execution_count": 10,
   "metadata": {},
   "outputs": [
    {
     "name": "stdout",
     "output_type": "stream",
     "text": [
      "Total available Added  : 'Add_0' at initial time: 12583\n",
      "The machine that were removed due to maintenance : 8957\n",
      "We notice that during the whole time : 21443 machine were activated  ie:\n",
      "All rthe Added machine 21443 - 12583 the initialy added we find : 8860 which is the number of reAdded machine after removed\n",
      "the updated machine are 7380 \n"
     ]
    },
    {
     "data": {
      "image/png": "[encoded data removed]",
      "text/plain": [
       "<Figure size 432x288 with 1 Axes>"
      ]
     },
     "metadata": {},
     "output_type": "display_data"
    }
   ],
   "source": [
    "events_0 = mc_entries.map(lambda w : (w[machine_id], w[column_index], w[timestamp])).distinct().filter(lambda x : x[1] in ['0']).map(lambda u: u[0]).distinct().count()\n",
    "\n",
    "print(\"Total available Added  : 'Add_0' at initial time: {}\".format(events_0))\n",
    "events_1 = mc_entries.map(lambda w : ( w[machine_id], w[column_index],w[timestamp])).distinct().filter(lambda x : x[1] in ['1']).count()\n",
    "print(\"The machine that were removed due to maintenance : {}\".format(events_1))\n",
    "events_00 = mc_entries.map(lambda w : (w[machine_id], w[column_index], w[timestamp])).filter(lambda x : x[1] in ['0']).count()\n",
    "print(\"We notice that during the whole time : {} machine were activated  ie:\". format(events_00))\n",
    "print(\"All rthe Added machine {} - {} the initialy added we find : {} which is the number of reAdded machine after removed\".format(events_00,events_0,events_00-events_0))\n",
    "\n",
    "events_2 = mc_entries.map(lambda w : ( w[machine_id], w[column_index])).filter(lambda x : x[1] in ['2']).count()\n",
    "print(\"the updated machine are {} \".format(events_2))\n",
    "\n",
    "lab= [\"removed_1\",\"Add_0\"]\n",
    "val =[events_0, events_00-events_0]\n",
    "explode = (0.1, 0.1) \n",
    "colors = [ 'yellowgreen', 'lightcoral']\n",
    "plt.pie(val, explode=explode, labels=lab, colors=colors,\n",
    "autopct='%1.1f%%', shadow=True, startangle=140)\n",
    "\n",
    "# explode 1st slice\n",
    "\n",
    "plt.axis('equal')\n",
    "plt.show();"
   ]
  },
  {
   "cell_type": "markdown",
   "metadata": {},
   "source": [
    "\n",
    "**Question 5**: Do tasks with low priority have a higher probability of being evicted?\n",
    "To answer this question, we are going to calculate the probabilty of evicted tasks given they are of a low priority. For that, we will use the Bayes formula P(evicted tasks / low priority tasks). \n",
    "\n",
    "As for this question, we are going to do a performance comparison between Spark RDD and Spark DataFrame operations (time of execution). See below."
   ]
  },
  {
   "cell_type": "code",
   "execution_count": 10,
   "metadata": {},
   "outputs": [
    {
     "name": "stdout",
     "output_type": "stream",
     "text": [
      "The probability of evicted task when it is low priority: 1.25 percent\n",
      "Execution time for Spark RDD:  2.7010788000000048\n"
     ]
    }
   ],
   "source": [
    "# split each line into an array of items\n",
    "\n",
    "start = timeit.default_timer()\n",
    "\n",
    "task_events = task_events_rdd.map(lambda x: x.split(\",\"))\n",
    "\n",
    "# supposing that priorities with classes less than 4 are with low priority\n",
    "low_priority_tasks = task_events.filter(lambda x: x[8] < '4')\n",
    "num_priority_tasks = low_priority_tasks.count()\n",
    "num_evicted_tasks = float(low_priority_tasks.filter(lambda x: x[5] == '2').count())\n",
    "p1 = num_evicted_tasks / num_priority_tasks\n",
    "\n",
    "print(\"The probability of evicted task when it is low priority: %.2f percent\" %(p1*100))\n",
    "\n",
    "stop = timeit.default_timer()\n",
    "print('Execution time for Spark RDD: ', stop - start)  \n"
   ]
  },
  {
   "cell_type": "code",
   "execution_count": 11,
   "metadata": {
    "scrolled": true
   },
   "outputs": [
    {
     "name": "stdout",
     "output_type": "stream",
     "text": [
      "The probability of evicted task when it is low priority: 1.25 percent\n",
      "Execution time for Spark DF:  1.5455919999999423\n"
     ]
    }
   ],
   "source": [
    "start = timeit.default_timer()\n",
    "\n",
    "low_priority_tasks_df = task_events_df.filter((task_events_df.priority < 4))\n",
    "nbr_low_priority = low_priority_tasks_df.count()                                                          \n",
    "nbr_evicted_tasks_df = float(low_priority_tasks_df.filter((low_priority_tasks_df[\"event_type\"]==2)).count())\n",
    "\n",
    "p2 = nbr_evicted_tasks_df / nbr_low_priority\n",
    "\n",
    "print(\"The probability of evicted task when it is low priority: %.2f percent\" %(p1*100))\n",
    "\n",
    "stop = timeit.default_timer()\n",
    "print('Execution time for Spark DF: ', stop - start)  "
   ]
  },
  {
   "cell_type": "markdown",
   "metadata": {},
   "source": [
    "*Comment*\n",
    "\n",
    "* Results: We can clearly say that the hypothesis (*tasks with low priority have a higher probability of being evicted*) doesn't hold. Only ~1 percent of the evicted tasks are of a low priority \n",
    "* Performance: Spark DataFrames is faster thant Spark RDD. It offers high-level domain-specific functionalities. And it uses an optimization engine (Catalyst Optimizer) that helps to save space and reduce execution time. Consequently, we are going to go with Spark DF to answer the next questions and do some analysis. PS: another comparaison between Spark DF and Pandas Dataframes comes in next questions."
   ]
  },
  {
   "cell_type": "markdown",
   "metadata": {},
   "source": [
    "**Question 6**: In general, do tasks from the same job run on the same machine?"
   ]
  },
  {
   "cell_type": "code",
   "execution_count": 12,
   "metadata": {},
   "outputs": [
    {
     "data": {
      "text/plain": [
       "450146"
      ]
     },
     "execution_count": 12,
     "metadata": {},
     "output_type": "execute_result"
    },
    {
     "name": "stdout",
     "output_type": "stream",
     "text": [
      "+----------+------------+\n",
      "|    job_id|num_machines|\n",
      "+----------+------------+\n",
      "|5554591681|           3|\n",
      "|6051350394|           2|\n",
      "|6210690644|         121|\n",
      "|6251695084|           2|\n",
      "|6251707278|           2|\n",
      "|6251711349|           2|\n",
      "|6251851196|           2|\n",
      "|6251933641|        1062|\n",
      "|6238987821|          10|\n",
      "|5440065284|          36|\n",
      "|6234228702|           8|\n",
      "|2509801309|           6|\n",
      "|6232114040|           1|\n",
      "|6238968291|           1|\n",
      "|4645263861|           1|\n",
      "|5756212140|           1|\n",
      "|4974913023|           1|\n",
      "|6058486346|           1|\n",
      "|4537082914|           2|\n",
      "|6170713516|           1|\n",
      "+----------+------------+\n",
      "only showing top 20 rows\n",
      "\n"
     ]
    }
   ],
   "source": [
    "#select the rows where job_id is not null\n",
    "task_events = task_events_df.filter(task_events_df.job_id.isNotNull())\n",
    "task_events.count()\n",
    "task_events_groupped = task_events_df.groupBy(\"job_id\", \"machine_id\").agg(count(\"*\")).groupBy(\"job_id\").agg(count(\"*\"))\n",
    "dfs = task_events_groupped.withColumnRenamed(\"count(1)\", \"num_machines\")\n",
    "dfs.show()"
   ]
  },
  {
   "cell_type": "code",
   "execution_count": 13,
   "metadata": {},
   "outputs": [
    {
     "data": {
      "image/png": "[encoded data removed]",
      "text/plain": [
       "<Figure size 432x288 with 1 Axes>"
      ]
     },
     "metadata": {},
     "output_type": "display_data"
    }
   ],
   "source": [
    "num_1 = dfs.filter((dfs[\"num_machines\"]==1)).count()\n",
    "total = dfs.count()\n",
    "#y = task_events_groupped.select(\"count(1)\").rdd.flatMap(lambda x: x).collect()\n",
    "\n",
    "# Data to plot\n",
    "labels = '1 machine', 'Many machines'\n",
    "sizes = [num_1, total-num_1]\n",
    "colors = ['gold', 'yellowgreen']\n",
    "explode = (0.1, 0)  # explode 1st slice\n",
    "\n",
    "# Plot\n",
    "plt.pie(sizes, explode=explode, labels=labels, colors=colors,\n",
    "autopct='%1.1f%%', shadow=True, startangle=140)\n",
    "\n",
    "plt.title('Distribution of jobs that run on one machine and many machines in Google cluster')\n",
    "\n",
    "plt.axis('equal')\n",
    "plt.show();"
   ]
  },
  {
   "cell_type": "markdown",
   "metadata": {},
   "source": [
    "As we notice, jobs tend to work on a cluster when needed. After all this is the point of making clusters. "
   ]
  },
  {
   "cell_type": "markdown",
   "metadata": {},
   "source": [
    "**Question 7**: Are there tasks that consume significantly less resources than what they requested?\n",
    "\n",
    "*Significantly less: we take 10% as a threshold for comparison\n",
    "\n",
    "PS: We are going to (try to) compare the performance between Spark DF and Pandas DF "
   ]
  },
  {
   "cell_type": "code",
   "execution_count": 14,
   "metadata": {},
   "outputs": [
    {
     "data": {
      "text/plain": [
       "91716"
      ]
     },
     "execution_count": 14,
     "metadata": {},
     "output_type": "execute_result"
    },
    {
     "data": {
      "text/plain": [
       "222491"
      ]
     },
     "execution_count": 14,
     "metadata": {},
     "output_type": "execute_result"
    },
    {
     "name": "stdout",
     "output_type": "stream",
     "text": [
      "Execution time for Spark DF:  29.40220239999985\n"
     ]
    }
   ],
   "source": [
    "# NOTE: for question 7, we are going to compare between the performance of Pyspark DF and Pandas DF (execution time)\n",
    "start = timeit.default_timer()\n",
    "\n",
    "# let's filter the tasks that at least used one ressources (or, has a value in the row greater than zero)\n",
    "task_usage_df = task_usage_df.filter((task_usage_df[\"cpu_usage\"] > 0) | (task_usage_df[\"assigned_memory\"] > 0) | (task_usage_df[\"local_disk_usage\"] > 0))\n",
    "# simply counting them to check the numbers\n",
    "task_usage_df.count()\n",
    "# and joining the filtered dataframe with \"task_usage_df\" on the ID(job_id,task_index_job) = lots of calculations :/ \n",
    "joined_data = task_usage_df.join(task_events_df, ['job_id','task_index_job'])\n",
    "joined_data.count()\n",
    "\n",
    "stop = timeit.default_timer()\n",
    "print('Execution time for Spark DF: ', stop - start)  "
   ]
  },
  {
   "cell_type": "code",
   "execution_count": 15,
   "metadata": {},
   "outputs": [],
   "source": [
    "# let's import again those two dataframes using Pandas\n",
    "\n",
    "df_task_usage = pd.read_csv(\"./data/task_usage.csv\", names=[\"start_time\",\"end_time\",\"job_id\",\"task_index_job\",\"machine_id\",\"cpu_rate\",\"canonial_memory\",\"assigned_memory\",\"unmapped_page_cache\",\"total_page_cache\",\"max_memory_usage\",\"io_time\",\"local_disk_usage\",\"max_disk_usage\",\"max_io_time\", \"cycle_per_inst\",\"memory_access\",\"sample_portion\", \"agg_type\",\"cpu_usage\"])\n",
    "df_task_events = pd.read_csv(\"./data/task_events.csv\", names=[\"timestamp\",\"missing_info\",\"job_id\",\"task_index_job\",\"machine_id\",\"event_type\",\"username\",\"scheduling_class\",\"priority\",\"cpu_request\",\"memory_request\",\"disk_request\", \"machine_restriction\"])\n"
   ]
  },
  {
   "cell_type": "markdown",
   "metadata": {},
   "source": [
    "<font color='red'><b>*WARNING:*</b></font> \n",
    "Executing this block of code will kill the kernel (due to limited ressource allocated for Jupyter)"
   ]
  },
  {
   "cell_type": "code",
   "execution_count": null,
   "metadata": {},
   "outputs": [
    {
     "name": "stderr",
     "output_type": "stream",
     "text": [
      "----------------------------------------\n",
      "Exception happened during processing of request from ('127.0.0.1', 37310)\n",
      "Traceback (most recent call last):\n",
      "  File \"/opt/conda/lib/python3.7/socketserver.py\", line 316, in _handle_request_noblock\n",
      "    self.process_request(request, client_address)\n",
      "  File \"/opt/conda/lib/python3.7/socketserver.py\", line 347, in process_request\n",
      "    self.finish_request(request, client_address)\n",
      "  File \"/opt/conda/lib/python3.7/socketserver.py\", line 360, in finish_request\n",
      "    self.RequestHandlerClass(request, client_address, self)\n",
      "  File \"/opt/conda/lib/python3.7/socketserver.py\", line 720, in __init__\n",
      "    self.handle()\n",
      "  File \"/usr/local/spark/python/pyspark/accumulators.py\", line 269, in handle\n",
      "    poll(accum_updates)\n",
      "  File \"/usr/local/spark/python/pyspark/accumulators.py\", line 241, in poll\n",
      "    if func():\n",
      "  File \"/usr/local/spark/python/pyspark/accumulators.py\", line 245, in accum_updates\n",
      "    num_updates = read_int(self.rfile)\n",
      "  File \"/usr/local/spark/python/pyspark/serializers.py\", line 717, in read_int\n",
      "    raise EOFError\n",
      "EOFError\n",
      "----------------------------------------\n"
     ]
    }
   ],
   "source": [
    "\n",
    "start = timeit.default_timer()\n",
    "\n",
    "# cpu_usage_index=19, assigned_memory_index=7, local_disk_usage_index=12\n",
    "task_usage_pandas = df_task_usage[(df_task_usage[\"cpu_usage\"] > 0) | (df_task_usage[\"assigned_memory\"] > 0)| (df_task_usage[\"local_disk_usage\"] > 0)]\n",
    "\n",
    "#joined_date = task_usage_df.join(task_events_df, ['job_id','task_index_job'])\n",
    "\n",
    "pd_join = pd.merge(task_usage_pandas, df_task_events, on=['job_id','task_index_job'])\n",
    "\n",
    "pd_join.count()\n",
    "\n",
    "stop = timeit.default_timer()\n",
    "\n",
    "print('Time: ', stop - start)  \n",
    "print('Execution time for Pandas DF: ', stop - start) "
   ]
  },
  {
   "cell_type": "markdown",
   "metadata": {},
   "source": [
    "<font color='red'>*DISCLAIMER*</font>: \n",
    "Running the join operation on the dataframes with Pandas using Jupyter Notebook would crash the kernel due to the intensive calculation needed. When we used .py script, it took @1 minute to finish the calculations. Hense, Spark is very efficient at handling intensive calculations. \n"
   ]
  },
  {
   "cell_type": "code",
   "execution_count": 19,
   "metadata": {},
   "outputs": [],
   "source": [
    "# counting the number of tasks within jobs that received less ressources than requested (10% as a threshold)\n",
    "less_ressources = joined_data.filter((0.1*joined_data[\"cpu_request\"] > joined_data[\"cpu_usage\"] ) & \n",
    "                   (0.1*joined_data[\"memory_request\"] > joined_data[\"assigned_memory\"]) &\n",
    "                   (0.1*joined_data[\"disk_request\"] > joined_data[\"local_disk_usage\"]) ) \n",
    "c = less_ressources.count()"
   ]
  },
  {
   "cell_type": "code",
   "execution_count": 20,
   "metadata": {},
   "outputs": [
    {
     "name": "stdout",
     "output_type": "stream",
     "text": [
      "There is 170925 tasks that received significantly less ressources thant requested\n"
     ]
    }
   ],
   "source": [
    "print(\"There is\",c,\"tasks that received significantly less ressources thant requested\")"
   ]
  },
  {
   "cell_type": "markdown",
   "metadata": {},
   "source": [
    "**Other Analysis**\n",
    "--------------\n"
   ]
  },
  {
   "cell_type": "markdown",
   "metadata": {},
   "source": [
    "**1#**: Number of adds(0), removes(1) and updates(2) per machine\n",
    "\n",
    "This simple analysis has as a goal to show the number of machines given the number of event types (adds, removes and updates). \n",
    "We can see that the number of machines added to the cluster are most of the times equal to number of machines removed (same machines then). On the other hand, the number of updates is higher than removes and adds, which makes sense as we usually do updates in the lifecycle of a machine (between adding to removal)."
   ]
  },
  {
   "cell_type": "code",
   "execution_count": 21,
   "metadata": {},
   "outputs": [
    {
     "name": "stdout",
     "output_type": "stream",
     "text": [
      "+----------+----------+--------+\n",
      "|machine_id|event_type|count(1)|\n",
      "+----------+----------+--------+\n",
      "| 400426643|         2|       8|\n",
      "| 308516669|         2|       6|\n",
      "|1390772944|         2|       7|\n",
      "|   6567472|         2|       6|\n",
      "| 346897607|         2|       2|\n",
      "| 266853480|         2|       1|\n",
      "|    682478|         2|       1|\n",
      "|1478958061|         2|       3|\n",
      "|1436490084|         2|      37|\n",
      "| 759604527|         2|       4|\n",
      "|1458705361|         2|       1|\n",
      "|   5781221|         2|       4|\n",
      "|   5781239|         2|       1|\n",
      "|  16916847|         2|       2|\n",
      "|1440305526|         2|       5|\n",
      "| 655986468|         2|       2|\n",
      "| 294823359|         2|       2|\n",
      "|  32058404|         2|       1|\n",
      "| 257412150|         2|       2|\n",
      "| 288820972|         2|       2|\n",
      "+----------+----------+--------+\n",
      "only showing top 20 rows\n",
      "\n"
     ]
    }
   ],
   "source": [
    "machine_events_dfd = machine_events_df.filter(machine_events_df.machine_id.isNotNull()).groupBy(\"machine_id\",\"event_type\").agg(count(\"*\")).orderBy(\"event_type\",ascending=False)\n",
    "machine_events_dfd.show()"
   ]
  },
  {
   "cell_type": "code",
   "execution_count": 22,
   "metadata": {},
   "outputs": [],
   "source": [
    "machine_events_dfd = machine_events_dfd.withColumnRenamed(\"count(1)\", \"cpt\")\n",
    "machine_events_type0 = machine_events_dfd.filter((machine_events_dfd[\"event_type\"]==0)).groupBy(\"cpt\").agg(count(\"*\")).orderBy(\"cpt\")\n",
    "machine_events_type1 = machine_events_dfd.filter((machine_events_dfd[\"event_type\"]==1)).groupBy(\"cpt\").agg(count(\"*\")).orderBy(\"cpt\")\n",
    "machine_events_type2 = machine_events_dfd.filter((machine_events_dfd[\"event_type\"]==2)).groupBy(\"cpt\").agg(count(\"*\")).orderBy(\"cpt\")\n",
    "#machine_events_fins =machine_events_dfd.groupBy(\"event_type\").agg({'cpt':'sum'}).orderBy(\"event_type\")"
   ]
  },
  {
   "cell_type": "code",
   "execution_count": 23,
   "metadata": {},
   "outputs": [
    {
     "data": {
      "image/png": "[encoded data removed]",
      "text/plain": [
       "<Figure size 432x288 with 1 Axes>"
      ]
     },
     "metadata": {
      "needs_background": "light"
     },
     "output_type": "display_data"
    }
   ],
   "source": [
    "x1 = machine_events_type0.select(\"cpt\").rdd.flatMap(lambda x: x).collect()\n",
    "y1 = machine_events_type0.select(\"count(1)\").rdd.flatMap(lambda x: x).collect()\n",
    "\n",
    "x2 = machine_events_type1.select(\"cpt\").rdd.flatMap(lambda x: x).collect()\n",
    "y2 = machine_events_type1.select(\"count(1)\").rdd.flatMap(lambda x: x).collect()\n",
    "\n",
    "x3 = machine_events_type2.select(\"cpt\").rdd.flatMap(lambda x: x).collect()\n",
    "y3 = machine_events_type2.select(\"count(1)\").rdd.flatMap(lambda x: x).collect()\n",
    "\n",
    "plt.scatter(x1, y1, s=5, c = 'red',label=\"Event(0)=Adds\")\n",
    "plt.scatter(x2, y2, s=5, c = 'yellow', label=\"Event(1)=Removes\")\n",
    "plt.scatter(x3, y3, s=5, c = 'green', label=\"Event(2)=Updates\")\n",
    "plt.legend()\n",
    "plt.xlabel('Number of event’s changes', fontsize=12)\n",
    "plt.ylabel('Number of machines', fontsize=12)\n",
    "\n",
    "plt.title('Number of adds(0), removes(1) and updates(2) per machine')\n",
    "\n",
    "plt.show();"
   ]
  },
  {
   "cell_type": "markdown",
   "metadata": {},
   "source": [
    "## **2#**: Number of Jobs per Priority\n",
    "\n",
    "This is an analysis of the number of jobs per priority in our cluster. As we can see, priority 2 is the highest in numbers in our case followed by 0 then 9."
   ]
  },
  {
   "cell_type": "code",
   "execution_count": 24,
   "metadata": {},
   "outputs": [
    {
     "name": "stdout",
     "output_type": "stream",
     "text": [
      "+--------+--------+\n",
      "|priority|count(1)|\n",
      "+--------+--------+\n",
      "|      11|   13087|\n",
      "|      10|    1688|\n",
      "|       9|   99178|\n",
      "|       8|    7013|\n",
      "|       2|  173736|\n",
      "|       1|   35733|\n",
      "|       0|  119711|\n",
      "+--------+--------+\n",
      "\n"
     ]
    }
   ],
   "source": [
    "task_events_pr = task_events_df.filter(task_events_df.job_id.isNotNull()).groupBy(\"priority\").agg(count(\"*\")).orderBy(\"priority\",ascending=False)\n",
    "task_events_pr.show()"
   ]
  },
  {
   "cell_type": "code",
   "execution_count": 25,
   "metadata": {},
   "outputs": [
    {
     "name": "stderr",
     "output_type": "stream",
     "text": [
      "No handles with labels found to put in legend.\n"
     ]
    },
    {
     "data": {
      "image/png": "[encoded data removed]",
      "text/plain": [
       "<Figure size 432x288 with 1 Axes>"
      ]
     },
     "metadata": {
      "needs_background": "light"
     },
     "output_type": "display_data"
    }
   ],
   "source": [
    "x = task_events_pr.select(\"priority\").rdd.flatMap(lambda x: x).collect()\n",
    "y = task_events_pr.select(\"count(1)\").rdd.flatMap(lambda x: x).collect()\n",
    "\n",
    "plt.bar(x, y)\n",
    "plt.legend()\n",
    "plt.xlabel('Priority Class', fontsize=12)\n",
    "plt.ylabel('Number of jobs', fontsize=12)\n",
    "\n",
    "plt.title('Number of jobs per priority')\n",
    "\n",
    "plt.show();"
   ]
  },
  {
   "cell_type": "code",
   "execution_count": null,
   "metadata": {},
   "outputs": [],
   "source": [
    "# removing the dataframes from the cache \n",
    "machine_events_df.unpersist()\n",
    "task_events_df.unpersist()\n",
    "task_usage_df.unpersist()"
   ]
  },
  {
   "cell_type": "markdown",
   "metadata": {},
   "source": [
    "\n",
    "\n",
    "\n",
    "*Done by BARADZA Jonathan & GASMI Adel.*"
   ]
  }
 ],
 "metadata": {
  "kernelspec": {
   "display_name": "Python 3",
   "language": "python",
   "name": "python3"
  },
  "language_info": {
   "codemirror_mode": {
    "name": "ipython",
    "version": 3
   },
   "file_extension": ".py",
   "mimetype": "text/x-python",
   "name": "python",
   "nbconvert_exporter": "python",
   "pygments_lexer": "ipython3",
   "version": "3.7.3"
  }
 },
 "nbformat": 4,
 "nbformat_minor": 2
}
